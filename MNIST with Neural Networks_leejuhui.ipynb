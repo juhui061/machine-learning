{
  "nbformat": 4,
  "nbformat_minor": 0,
  "metadata": {
    "colab": {
      "provenance": []
    },
    "kernelspec": {
      "name": "python3",
      "display_name": "Python 3"
    },
    "language_info": {
      "name": "python"
    }
  },
  "cells": [
    {
      "cell_type": "code",
      "execution_count": 14,
      "metadata": {
        "id": "q1Okat1iadVH"
      },
      "outputs": [],
      "source": [
        "import torch\n",
        "import matplotlib.pyplot as plt\n",
        "import numpy as np\n",
        "import torch.nn.functional as F\n",
        "from torch import nn\n",
        "from torchvision import datasets, transforms"
      ]
    },
    {
      "cell_type": "code",
      "source": [
        "mnist_transform=transforms.Compose([\n",
        "                              transforms.Resize((28,28)),\n",
        "                              transforms.ToTensor(), # first, convert image to PyTorch (float) tensor\n",
        "                              transforms.Normalize((0.5,), (0.5,)) # normalize inputs, x' = (x-u)/std, x'=[-1, 1] \n",
        "                              ])     \n",
        "\n",
        "train_dataset = datasets.MNIST(root='./mnist_data', \n",
        "                                  train=True, \n",
        "                                  download=True, \n",
        "                                  transform=mnist_transform)\n",
        "#print(train_dataset)\n",
        "train_loader = torch.utils.data.DataLoader(train_dataset, batch_size=100, shuffle=True) \n",
        "# shuffle training data before each epoch to avoid local min"
      ],
      "metadata": {
        "id": "wLxgeq33alXH"
      },
      "execution_count": 15,
      "outputs": []
    },
    {
      "cell_type": "markdown",
      "source": [
        "# contruct model architecture"
      ],
      "metadata": {
        "id": "dHkMOGIiapSG"
      }
    },
    {
      "cell_type": "code",
      "source": [
        "class NN_MNIST(nn.Module):\n",
        "  def __init__(self, NN_in, H1, H2, H3, NN_out):\n",
        "    super().__init__()\n",
        "    self.linear1 = nn.Linear(NN_in, H1)\n",
        "    self.linear2 = nn.Linear(H1, H2)\n",
        "    self.linear3 = nn.Linear(H2, H3)\n",
        "    self.linear4 = nn.Linear(H3, NN_out)\n",
        "\n",
        "  def forward(self, x):\n",
        "    x = F.relu(self.linear1(x))\n",
        "    x = F.relu(self.linear2(x))\n",
        "    x = F.relu(self.linear3(x))\n",
        "    x = self.linear4(x) # activation not needed for multi-class classification task\n",
        "    return x"
      ],
      "metadata": {
        "id": "xm0yJQvfauQp"
      },
      "execution_count": 16,
      "outputs": []
    },
    {
      "cell_type": "markdown",
      "source": [
        "# make model instance"
      ],
      "metadata": {
        "id": "Bbox2zQTa5U1"
      }
    },
    {
      "cell_type": "code",
      "source": [
        "torch.manual_seed(1)\n",
        "model = NN_MNIST(784, 128, 64, 32, 10)\n",
        "model"
      ],
      "metadata": {
        "colab": {
          "base_uri": "https://localhost:8080/"
        },
        "id": "zSkGJ15Ra_Yl",
        "outputId": "f4dfbef8-3dfd-4c6d-c362-e0d3cfaff348"
      },
      "execution_count": 17,
      "outputs": [
        {
          "output_type": "execute_result",
          "data": {
            "text/plain": [
              "NN_MNIST(\n",
              "  (linear1): Linear(in_features=784, out_features=128, bias=True)\n",
              "  (linear2): Linear(in_features=128, out_features=64, bias=True)\n",
              "  (linear3): Linear(in_features=64, out_features=32, bias=True)\n",
              "  (linear4): Linear(in_features=32, out_features=10, bias=True)\n",
              ")"
            ]
          },
          "metadata": {},
          "execution_count": 17
        }
      ]
    },
    {
      "cell_type": "markdown",
      "source": [
        "# optimizer"
      ],
      "metadata": {
        "id": "kKfET04SbHBl"
      }
    },
    {
      "cell_type": "code",
      "source": [
        "# optimizer = torch.optim.Adam(model.parameters(), lr=0.05)\n",
        "optimizer = torch.optim.SGD(model.parameters(), lr=0.05)\n",
        "criterion = nn.CrossEntropyLoss() # cf. BCE()"
      ],
      "metadata": {
        "id": "LiRYWZntbKBB"
      },
      "execution_count": 18,
      "outputs": []
    },
    {
      "cell_type": "code",
      "source": [
        "epochs = 10\n",
        "running_loss_history = []\n",
        "running_corrects_history = []\n",
        "\n",
        "for eno in range(epochs):\n",
        "\n",
        "  running_loss = 0.0\n",
        "  running_corrects = 0.0\n",
        "\n",
        "  # a batch of 100 images x 600 batches -> 60,000 for a single epoch \n",
        "  for inputs, labels in train_loader:     \n",
        "    # input [100(batch size), 1(channel), 28(width), 28(height)] =>     \n",
        "    inputs = inputs.view(inputs.shape[0], -1) # [100, 784]\n",
        "    outputs = model(inputs) # logits (scores)\n",
        "    loss = criterion(outputs, labels) # outputs [100, 1], labels [100]\n",
        "    \n",
        "    optimizer.zero_grad()\n",
        "    loss.backward()\n",
        "    optimizer.step()\n",
        "\n",
        "    #max function output(max, max_indices)\n",
        "    _, pred_idx = torch.max(outputs, 1) # 2nd argument - the dim to reduce    \n",
        "\n",
        "    running_loss += loss.item() # loss per batch \n",
        "    running_corrects += torch.sum(pred_idx == labels.data)\n",
        "  else:\n",
        "    epoch_loss = running_loss/len(train_loader) \n",
        "    running_loss_history.append(epoch_loss)\n",
        "    epoch_acc = (running_corrects.float()/inputs.shape[0]*100)/len(train_loader) \n",
        "    running_corrects_history.append(epoch_acc)\n",
        "    print('--------------- epoch: ', (eno+1), '---------------')\n",
        "    print('training loss: {:.4f}, accuracy {:.4f}'.format(epoch_loss, epoch_acc.item()))"
      ],
      "metadata": {
        "colab": {
          "base_uri": "https://localhost:8080/"
        },
        "id": "Mpe7fnbwbSch",
        "outputId": "ef122bc3-f008-4f1b-f43c-d867553cbcde"
      },
      "execution_count": 19,
      "outputs": [
        {
          "output_type": "stream",
          "name": "stdout",
          "text": [
            "--------------- epoch:  1 ---------------\n",
            "training loss: 0.8212, accuracy 74.3517\n",
            "--------------- epoch:  2 ---------------\n",
            "training loss: 0.2846, accuracy 91.2750\n",
            "--------------- epoch:  3 ---------------\n",
            "training loss: 0.2047, accuracy 93.7200\n",
            "--------------- epoch:  4 ---------------\n",
            "training loss: 0.1657, accuracy 94.9250\n",
            "--------------- epoch:  5 ---------------\n",
            "training loss: 0.1383, accuracy 95.7900\n",
            "--------------- epoch:  6 ---------------\n",
            "training loss: 0.1201, accuracy 96.3467\n",
            "--------------- epoch:  7 ---------------\n",
            "training loss: 0.1063, accuracy 96.7267\n",
            "--------------- epoch:  8 ---------------\n",
            "training loss: 0.0938, accuracy 97.1283\n",
            "--------------- epoch:  9 ---------------\n",
            "training loss: 0.0836, accuracy 97.4617\n",
            "--------------- epoch:  10 ---------------\n",
            "training loss: 0.0755, accuracy 97.6300\n"
          ]
        }
      ]
    },
    {
      "cell_type": "code",
      "source": [
        "plt.plot(running_loss_history, label='training loss')\n",
        "plt.legend()"
      ],
      "metadata": {
        "colab": {
          "base_uri": "https://localhost:8080/",
          "height": 283
        },
        "id": "EAsvcjqdbYUW",
        "outputId": "b766fcc2-7eee-488f-b81a-faa3cf6517ce"
      },
      "execution_count": 20,
      "outputs": [
        {
          "output_type": "execute_result",
          "data": {
            "text/plain": [
              "<matplotlib.legend.Legend at 0x7ff2a08d4ad0>"
            ]
          },
          "metadata": {},
          "execution_count": 20
        },
        {
          "output_type": "display_data",
          "data": {
            "text/plain": [
              "<Figure size 432x288 with 1 Axes>"
            ],
            "image/png": "[encoded data removed]"
          },
          "metadata": {
            "needs_background": "light"
          }
        }
      ]
    },
    {
      "cell_type": "code",
      "source": [
        "plt.plot(running_corrects_history, label='training accuracy(%)')\n",
        "plt.legend()"
      ],
      "metadata": {
        "colab": {
          "base_uri": "https://localhost:8080/",
          "height": 283
        },
        "id": "l2V_OmZHbbDr",
        "outputId": "62014299-9619-4a1d-f9d0-2bfc3070fdf7"
      },
      "execution_count": 21,
      "outputs": [
        {
          "output_type": "execute_result",
          "data": {
            "text/plain": [
              "<matplotlib.legend.Legend at 0x7ff2a090e6d0>"
            ]
          },
          "metadata": {},
          "execution_count": 21
        },
        {
          "output_type": "display_data",
          "data": {
            "text/plain": [
              "<Figure size 432x288 with 1 Axes>"
            ],
            "image/png": "[encoded data removed]"
          },
          "metadata": {
            "needs_background": "light"
          }
        }
      ]
    }
  ]
}